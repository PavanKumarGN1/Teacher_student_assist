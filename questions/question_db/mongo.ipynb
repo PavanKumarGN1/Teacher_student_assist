{
 "cells": [
  {
   "cell_type": "code",
   "execution_count": 2,
   "metadata": {},
   "outputs": [
    {
     "data": {
      "text/plain": [
       "True"
      ]
     },
     "execution_count": 2,
     "metadata": {},
     "output_type": "execute_result"
    }
   ],
   "source": [
    "import os\n",
    "from dotenv import load_dotenv\n",
    "from langchain_community.document_loaders.mongodb import MongodbLoader\n",
    "import nest_asyncio\n",
    "nest_asyncio.apply()\n",
    "load_dotenv()"
   ]
  },
  {
   "cell_type": "code",
   "execution_count": 5,
   "metadata": {},
   "outputs": [],
   "source": [
    "from pymongo import MongoClient\n",
    "\n",
    "class MongodbLoader:\n",
    "    def __init__(self, connection_string, db_name, collection_name, filter_criteria=None, field_names=None):\n",
    "        self.client = MongoClient(connection_string)\n",
    "        self.db = self.client[db_name]\n",
    "        self.collection = self.db[collection_name]\n",
    "        self.filter_criteria = filter_criteria or {}\n",
    "        self.field_names = {field: 1 for field in field_names} if field_names else {}\n",
    "\n",
    "    def load_data(self):\n",
    "        documents = self.collection.find(self.filter_criteria, self.field_names)\n",
    "        return list(documents)"
   ]
  },
  {
   "cell_type": "code",
   "execution_count": 6,
   "metadata": {},
   "outputs": [],
   "source": [
    "# Usage\n",
    "loader = MongodbLoader(\n",
    "    connection_string=\"mongodb://localhost:27017/\",\n",
    "    db_name=\"data1\",\n",
    "    collection_name=\"mcqs\",\n",
    "    filter_criteria={},  # Add any specific criteria if needed, e.g., {\"question\": {\"$regex\": \"Question 1\"}}\n",
    "    field_names=[\"question\", \"options\", \"correct_answer\"]  # Specify the fields you want\n",
    ")"
   ]
  },
  {
   "cell_type": "code",
   "execution_count": 10,
   "metadata": {},
   "outputs": [
    {
     "data": {
      "text/plain": [
       "26"
      ]
     },
     "execution_count": 10,
     "metadata": {},
     "output_type": "execute_result"
    }
   ],
   "source": [
    "docs = loader.load_data()\n",
    "\n",
    "len(docs)"
   ]
  },
  {
   "cell_type": "code",
   "execution_count": 11,
   "metadata": {},
   "outputs": [
    {
     "data": {
      "text/plain": [
       "{'_id': ObjectId('6724b017b8f4d57b980c3b6d'),\n",
       " 'question': 'Question 1: What happens when a chemical change occurs?',\n",
       " 'options': ['A) A physical change takes place',\n",
       "  'B) A chemical reaction has taken place',\n",
       "  'C) No change occurs',\n",
       "  'D) A biological reaction has taken place'],\n",
       " 'correct_answer': ''}"
      ]
     },
     "execution_count": 11,
     "metadata": {},
     "output_type": "execute_result"
    }
   ],
   "source": [
    "docs[0]"
   ]
  },
  {
   "cell_type": "code",
   "execution_count": 13,
   "metadata": {},
   "outputs": [],
   "source": [
    "from budserve.models.langchain import BudServeClient\n",
    "from langchain_core.prompts import PromptTemplate\n",
    "from langchain.schema.output_parser import StrOutputParser\n",
    "import os"
   ]
  },
  {
   "cell_type": "code",
   "execution_count": 14,
   "metadata": {},
   "outputs": [],
   "source": [
    "api_key=os.getenv('llama_api_key')"
   ]
  },
  {
   "cell_type": "code",
   "execution_count": 27,
   "metadata": {},
   "outputs": [],
   "source": [
    "llm = BudServeClient(base_url=\"https://rag-llm-api.accubits.cloud/v1\",\n",
    "                 model_name=\"meta-llama/Meta-Llama-3-8B-Instruct\",\n",
    "                 api_key=api_key,\n",
    "                 max_tokens=500)"
   ]
  },
  {
   "cell_type": "code",
   "execution_count": null,
   "metadata": {},
   "outputs": [
    {
     "name": "stdout",
     "output_type": "stream",
     "text": [
      "Collection 'mcqs_collection' created successfully.\n",
      "Uploaded batch of 52 points to Qdrant.\n",
      "Data upload process completed.\n"
     ]
    }
   ],
   "source": [
    "import os\n",
    "from qdrant_client import QdrantClient\n",
    "from pymongo import MongoClient\n",
    "import numpy as np\n",
    "import uuid\n",
    "\n",
    "# MongoDB Credentials\n",
    "mongo_host = \"mongodb://localhost:27017/\"\n",
    "mongo_db_name = \"data1\"  # Replace with your database name\n",
    "mongo_collection_name = \"mcqs\"  # Replace with your collection name\n",
    "\n",
    "# Qdrant Credentials\n",
    "QDRANT_URL = os.getenv('QDRANT_URL')  # Qdrant endpoint URL\n",
    "QDRANT_API_KEY = os.getenv('QDRANT_API_KEY')  # Qdrant API key\n",
    "\n",
    "# Initialize the MongoDB client\n",
    "mongo_client = MongoClient(mongo_host)\n",
    "\n",
    "# Set the MongoDB database and collection\n",
    "db = mongo_client[mongo_db_name]\n",
    "collection = db[mongo_collection_name]\n",
    "\n",
    "# Connect to Qdrant instance\n",
    "qdrant_client = QdrantClient(\n",
    "    url=QDRANT_URL,\n",
    "    api_key=QDRANT_API_KEY,\n",
    ")\n",
    "\n",
    "# Check if the collection exists in Qdrant\n",
    "collection_name = \"mcqs_collection\"\n",
    "your_vector_size = 128  # Set this to the size of your embeddings\n",
    "\n",
    "if not qdrant_client.collection_exists(collection_name):\n",
    "    qdrant_client.create_collection(\n",
    "        collection_name=collection_name,\n",
    "        vectors_config={\n",
    "            \"size\": your_vector_size,\n",
    "            \"distance\": \"Cosine\"  # or another distance metric\n",
    "        }\n",
    "    )\n",
    "    print(f\"Collection '{collection_name}' created successfully.\")\n",
    "else:\n",
    "    print(f\"Collection '{collection_name}' already exists.\")\n",
    "\n",
    "# Retrieve the MCQs data from MongoDB\n",
    "mcqs_data = list(collection.find())\n",
    "\n",
    "# Prepare documents for upload\n",
    "points = []\n",
    "batch_size = 100  # Define the batch size for uploads\n",
    "\n",
    "for i, doc in enumerate(mcqs_data):\n",
    "    # Prepare the point with necessary data\n",
    "    # Replace this with your actual embedding generation logic\n",
    "    embedding = np.random.rand(your_vector_size).tolist()  # Dummy embedding; replace with actual embeddings\n",
    "\n",
    "    point = {\n",
    "        \"id\": str(uuid.uuid4()),  # Generate a valid UUID for the point ID\n",
    "        \"vector\": embedding,\n",
    "        \"payload\": {\n",
    "            \"question\": doc.get(\"question\", \"\"),\n",
    "            \"options\": doc.get(\"options\", [])\n",
    "        }\n",
    "    }\n",
    "    points.append(point)\n",
    "\n",
    "    # Upload in batches to avoid serialization issues\n",
    "    if (i + 1) % batch_size == 0 or i == len(mcqs_data) - 1:\n",
    "        try:\n",
    "            qdrant_client.upsert(collection_name=collection_name, points=points)\n",
    "            print(f\"Uploaded batch of {len(points)} points to Qdrant.\")\n",
    "            points = []  # Reset points after upload\n",
    "        except Exception as e:\n",
    "            print(f\"Error uploading to Qdrant: {e}\")\n",
    "\n",
    "print(\"Data upload process completed.\")\n"
   ]
  },
  {
   "cell_type": "code",
   "execution_count": null,
   "metadata": {},
   "outputs": [],
   "source": []
  },
  {
   "cell_type": "code",
   "execution_count": null,
   "metadata": {},
   "outputs": [
    {
     "ename": "ImportError",
     "evalue": "cannot import name 'ConnectionError' from 'pymongo.errors' (d:\\VS_Code\\teacher_student_assist\\teacher\\Lib\\site-packages\\pymongo\\errors.py)",
     "output_type": "error",
     "traceback": [
      "\u001b[1;31m---------------------------------------------------------------------------\u001b[0m",
      "\u001b[1;31mImportError\u001b[0m                               Traceback (most recent call last)",
      "Cell \u001b[1;32mIn[45], line 3\u001b[0m\n\u001b[0;32m      1\u001b[0m \u001b[38;5;28;01mimport\u001b[39;00m \u001b[38;5;21;01mlogging\u001b[39;00m\n\u001b[0;32m      2\u001b[0m \u001b[38;5;28;01mfrom\u001b[39;00m \u001b[38;5;21;01mpymongo\u001b[39;00m \u001b[38;5;28;01mimport\u001b[39;00m MongoClient\n\u001b[1;32m----> 3\u001b[0m \u001b[38;5;28;01mfrom\u001b[39;00m \u001b[38;5;21;01mpymongo\u001b[39;00m\u001b[38;5;21;01m.\u001b[39;00m\u001b[38;5;21;01merrors\u001b[39;00m \u001b[38;5;28;01mimport\u001b[39;00m \u001b[38;5;167;01mConnectionError\u001b[39;00m  \u001b[38;5;66;03m# Re-enabled this import\u001b[39;00m\n\u001b[0;32m      4\u001b[0m \u001b[38;5;28;01mfrom\u001b[39;00m \u001b[38;5;21;01msentence_transformers\u001b[39;00m \u001b[38;5;28;01mimport\u001b[39;00m SentenceTransformer\n\u001b[0;32m      5\u001b[0m \u001b[38;5;28;01mimport\u001b[39;00m \u001b[38;5;21;01mnumpy\u001b[39;00m \u001b[38;5;28;01mas\u001b[39;00m \u001b[38;5;21;01mnp\u001b[39;00m\n",
      "\u001b[1;31mImportError\u001b[0m: cannot import name 'ConnectionError' from 'pymongo.errors' (d:\\VS_Code\\teacher_student_assist\\teacher\\Lib\\site-packages\\pymongo\\errors.py)"
     ]
    }
   ],
   "source": [
    "import logging\n",
    "from pymongo import MongoClient\n",
    "#from pymongo.errors import ConnectionError  # Re-enabled this import\n",
    "from sentence_transformers import SentenceTransformer\n",
    "import numpy as np\n",
    "\n",
    "# Configure logging\n",
    "logging.basicConfig(level=logging.INFO)\n",
    "\n",
    "# Connect to MongoDB\n",
    "try:\n",
    "    client = MongoClient('mongodb://localhost:27017/')\n",
    "    db = client['data1']  # Replace with your database name\n",
    "    collection = db['mcqs']  # Replace with your collection name\n",
    "except ConnectionError as e:  # Adjusted to handle only ConnectionError\n",
    "    logging.error(f\"Error connecting to MongoDB: {e}\")\n",
    "    raise\n",
    "\n",
    "# Fetch documents from MongoDB\n",
    "def fetch_documents():\n",
    "    try:\n",
    "        documents = list(collection.find())  # Convert cursor to list\n",
    "        logging.info(f\"Fetched {len(documents)} documents from MongoDB.\")  # Use len() for counting\n",
    "        return documents\n",
    "    except Exception as e:\n",
    "        logging.error(f\"Error fetching documents: {e}\")\n",
    "        return []\n",
    "\n",
    "# Initialize vector store\n",
    "def initialize_vector_store(model):\n",
    "    try:\n",
    "        # Sample initialization code for a vector store\n",
    "        vectors = []\n",
    "        for doc in fetch_documents():\n",
    "            if 'question' in doc and 'options' in doc:\n",
    "                question = doc['question']\n",
    "                options = doc['options']\n",
    "                vector = model.encode(question)  # Use a sentence transformer model to encode questions\n",
    "                vectors.append((vector, options))\n",
    "            else:\n",
    "                logging.warning(f\"Skipping document due to missing or invalid fields: {doc['_id']}\")\n",
    "        return vectors\n",
    "    except Exception as e:\n",
    "        logging.error(f\"Error initializing vector store: {e}\")\n",
    "        return None\n",
    "\n",
    "# Load the Sentence Transformer model\n",
    "try:\n",
    "    model = SentenceTransformer('all-MiniLM-L6-v2')  # You can choose a different model as needed\n",
    "    vector_store = initialize_vector_store(model)\n",
    "    if vector_store is None:\n",
    "        logging.error(\"Vector store is not initialized.\")\n",
    "except Exception as e:\n",
    "    logging.error(f\"Error loading the model: {e}\")\n",
    "\n",
    "# Example usage\n",
    "if __name__ == \"__main__\":\n",
    "    # Fetch and process documents\n",
    "    documents = fetch_documents()\n",
    "    if documents:\n",
    "        for doc in documents:\n",
    "            logging.info(doc)\n"
   ]
  },
  {
   "cell_type": "code",
   "execution_count": null,
   "metadata": {},
   "outputs": [],
   "source": []
  },
  {
   "cell_type": "code",
   "execution_count": null,
   "metadata": {},
   "outputs": [],
   "source": []
  }
 ],
 "metadata": {
  "kernelspec": {
   "display_name": "Python 3",
   "language": "python",
   "name": "python3"
  },
  "language_info": {
   "codemirror_mode": {
    "name": "ipython",
    "version": 3
   },
   "file_extension": ".py",
   "mimetype": "text/x-python",
   "name": "python",
   "nbconvert_exporter": "python",
   "pygments_lexer": "ipython3",
   "version": "3.11.10"
  }
 },
 "nbformat": 4,
 "nbformat_minor": 2
}
